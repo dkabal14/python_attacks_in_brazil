{
 "cells": [
  {
   "cell_type": "code",
   "execution_count": 18,
   "metadata": {},
   "outputs": [],
   "source": [
    "import re"
   ]
  },
  {
   "cell_type": "code",
   "execution_count": 2,
   "metadata": {},
   "outputs": [],
   "source": [
    "input_file = \"D:/Projetos_ACL/Samarco/01_06_-_MRCA_Ficha_Avaliação/01_06_-_MRCA_Ficha_Avaliação.acl\"\n",
    "script_name = 'F_TVBS'\n",
    "pattern = r'\\^BATCH.*' + script_name + r'\\b'\n",
    "keynames = [r'\\^FOLDER', r'\\^BATCH', r'\\^REPORT', r'\\^LOGFILE', r'\\^VARIABLE']\n",
    "excludeList = [r'\\[.*\\]']"
   ]
  },
  {
   "cell_type": "code",
   "execution_count": 58,
   "metadata": {},
   "outputs": [
    {
     "name": "stdout",
     "output_type": "stream",
     "text": [
      "COMMENT\n",
      "\n",
      "PRÉ-REQUISITOS: ARQUIVO charmap.csv COM O MAPA DE CARACTERES PARA O TRATAMENTO\n",
      "\n",
      "NA MESMA PASTA DO PROJETO ACL\n",
      "\n",
      "ENTRA: UMA TABELA COM TEXTO PARA SER TRATADO\n",
      "\n",
      "ENTRA: Extensão do arquivo na saída\n",
      "\n",
      "SAI: UM ARQUIVO COM O TEXTO TRATADO\n",
      "\n",
      "\n",
      "\n",
      "COMMENT\n",
      "\n",
      "BLOCO DE DEBUG\n",
      "\n",
      "****************************************************\n",
      "\n",
      "F_P_TVBS_INPUT_TBL = \"%V_TABLE_FINAL%_Macro\"\n",
      "\n",
      "F_P_TVBS_INPUT_EXT = \"VBS\"\n",
      "\n",
      "F_P_TVBS_OUTPUT_FILE = \"%F_TVBS_INPUT_TBL%_Tratado\"\n",
      "\n",
      "*****************************************************\n",
      "\n",
      "\n",
      "\n",
      "IMPORT DELIMITED TO charmap \"charmap.fil\" FROM \"charmap.csv\" 0 SEPARATOR \";\" QUALIFIER \"'\" CONSECUTIVE STARTLINE 1 KEEPTITLE ALLFIELDS ALLCHAR\n",
      "\n",
      "\n",
      "\n",
      "OPEN \"%F_P_TVBS_INPUT_TBL%\"\n",
      "\n",
      "\n",
      "\n",
      "COUNT\n",
      "\n",
      "F_V_TVBS_FIM = COUNT1\n",
      "\n",
      "F_V_TVBS_ITE = 1\n",
      "\n",
      "F_V_TVBS_RESULT = \"\"\n",
      "\n",
      "\n",
      "\n",
      "DO F_TVBS_2_analise_loop WHILE F_V_TVBS_ITE <= F_V_TVBS_FIM\n",
      "\n",
      "DO F_TVBS_3_exportacao\n",
      "\n"
     ]
    }
   ],
   "source": [
    "\n",
    "coletaDados = False\n",
    "dados = []\n",
    "\n",
    "with open(input_file, 'r') as f:\n",
    "    lines = f.readlines()\n",
    "    for line in lines:\n",
    "        if coletaDados == True:\n",
    "            for keyname in keynames:\n",
    "                if bool(re.search(keyname, line)):\n",
    "                    coletaDados = False\n",
    "            if coletaDados != False:\n",
    "                for item in excludeList:\n",
    "                    if not bool(re.search(item,line)):\n",
    "                        print(line)\n",
    "                        dados.append(line)\n",
    "\n",
    "        if bool(re.search(pattern, line)):\n",
    "            coletaDados = True\n",
    "        \n",
    "\n",
    "        \n"
   ]
  },
  {
   "cell_type": "code",
   "execution_count": 61,
   "metadata": {},
   "outputs": [],
   "source": [
    "outfile = script_name + '.aclscript'\n",
    "with open(outfile, 'w') as f:\n",
    "    for linha in dados:\n",
    "        f.write(linha)\n"
   ]
  }
 ],
 "metadata": {
  "kernelspec": {
   "display_name": "Python 3",
   "language": "python",
   "name": "python3"
  },
  "language_info": {
   "codemirror_mode": {
    "name": "ipython",
    "version": 3
   },
   "file_extension": ".py",
   "mimetype": "text/x-python",
   "name": "python",
   "nbconvert_exporter": "python",
   "pygments_lexer": "ipython3",
   "version": "3.11.6"
  }
 },
 "nbformat": 4,
 "nbformat_minor": 2
}
