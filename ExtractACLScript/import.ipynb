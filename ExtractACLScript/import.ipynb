{
 "cells": [
  {
   "cell_type": "code",
   "execution_count": 38,
   "metadata": {},
   "outputs": [],
   "source": [
    "import re"
   ]
  },
  {
   "cell_type": "code",
   "execution_count": 39,
   "metadata": {},
   "outputs": [],
   "source": [
    "project_to_modify = \"D:/Projetos_ACL/Samarco/01_06_-_MRCA_Ficha_Avaliação/01_06_-_MRCA_Ficha_Avaliação.acl\"\n",
    "script_to_add = \"F_TVBS.aclscript\"\n",
    "script_name = \"01_SCript de teste 01\""
   ]
  },
  {
   "cell_type": "code",
   "execution_count": 40,
   "metadata": {},
   "outputs": [],
   "source": [
    "def ajustaNomeACL(input_str: str) -> str:\n",
    "    strResult = re.sub(r'[^0-1a-zA-Z]', '_', input_str)\n",
    "    if bool(re.search(r'[0-9]', strResult[0])):\n",
    "        strResult = \"_\" + strResult[1:]\n",
    "    return strResult"
   ]
  },
  {
   "cell_type": "code",
   "execution_count": 41,
   "metadata": {},
   "outputs": [],
   "source": [
    "with open(script_to_add, 'r') as f:\n",
    "    lines_to_add = f.readlines()\n",
    "\n",
    "with open(project_to_modify, 'r') as f:\n",
    "    projectLines = f.readlines()\n",
    "\n",
    "projectLines[1:1] = lines_to_add\n",
    "projectLines[1:1] = ['^BATCH    ' + ajustaNomeACL(script_name) + '\\n']\n",
    "\n",
    "with open(project_to_modify, 'w') as f:\n",
    "    f.writelines(projectLines)"
   ]
  }
 ],
 "metadata": {
  "kernelspec": {
   "display_name": "Python 3",
   "language": "python",
   "name": "python3"
  },
  "language_info": {
   "codemirror_mode": {
    "name": "ipython",
    "version": 3
   },
   "file_extension": ".py",
   "mimetype": "text/x-python",
   "name": "python",
   "nbconvert_exporter": "python",
   "pygments_lexer": "ipython3",
   "version": "3.11.6"
  }
 },
 "nbformat": 4,
 "nbformat_minor": 2
}
