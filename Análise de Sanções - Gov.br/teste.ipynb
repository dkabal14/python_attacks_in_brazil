{
 "cells": [
  {
   "cell_type": "code",
   "execution_count": 1,
   "metadata": {},
   "outputs": [
    {
     "name": "stdout",
     "output_type": "stream",
     "text": [
      "Falha ao obter dados do CGU, código da API: 403\n",
      "\n",
      "Resposta do Website:\n"
     ]
    },
    {
     "data": {
      "text/html": [
       "<?xml version=\"1.0\" encoding=\"UTF-8\"?>\n",
       "<Error><Code>AccessDenied</Code><Message>Access Denied</Message><RequestId>BVEBA67ZC9GAHXXV</RequestId><HostId>XphWfK8d01U1z25eqZdEIX7/10s5ZEsPd7WjAfJ9l4C5/IyuPc+iyo6UIvKTIub4b3OKj5mE+ME=</HostId></Error>"
      ]
     },
     "metadata": {},
     "output_type": "display_data"
    },
    {
     "name": "stdout",
     "output_type": "stream",
     "text": [
      "Falha ao obter dados do CGU, código da API: 403\n",
      "\n",
      "Resposta do Website:\n"
     ]
    },
    {
     "data": {
      "text/html": [
       "<?xml version=\"1.0\" encoding=\"UTF-8\"?>\n",
       "<Error><Code>AccessDenied</Code><Message>Access Denied</Message><RequestId>320WW2XSBVDS11GW</RequestId><HostId>Fva5kuFd94ZnaEg3QEv5eT1xR9FhO/hP9uOSZRw6v6hr/qSrehbid4XUrXIyHlwv1SVjr+BnF/s=</HostId></Error>"
      ]
     },
     "metadata": {},
     "output_type": "display_data"
    },
    {
     "name": "stdout",
     "output_type": "stream",
     "text": [
      "Falha ao obter dados do CGU, código da API: 403\n",
      "\n",
      "Resposta do Website:\n"
     ]
    },
    {
     "data": {
      "text/html": [
       "<?xml version=\"1.0\" encoding=\"UTF-8\"?>\n",
       "<Error><Code>AccessDenied</Code><Message>Access Denied</Message><RequestId>RCJTD77R8KB8P030</RequestId><HostId>sgFCHn8VpEeixmkYgJjZa1tBrrA4cboEB6LVMtF4eQPfcZMH+Aou/fAVW9tUhJK2jJW57H17KYQ=</HostId></Error>"
      ]
     },
     "metadata": {},
     "output_type": "display_data"
    },
    {
     "name": "stdout",
     "output_type": "stream",
     "text": [
      "Falha ao obter dados do CGU, código da API: 403\n",
      "\n",
      "Resposta do Website:\n"
     ]
    },
    {
     "data": {
      "text/html": [
       "<?xml version=\"1.0\" encoding=\"UTF-8\"?>\n",
       "<Error><Code>AccessDenied</Code><Message>Access Denied</Message><RequestId>RCJJYFBBVXE71SC1</RequestId><HostId>B9hk2zqNM7WLlLzSIS8CghiJs+j/2LUCcwSiFmdJBr6XKMGUzKTN9ydwOWKU84D1PMx5Ntvgm9s=</HostId></Error>"
      ]
     },
     "metadata": {},
     "output_type": "display_data"
    },
    {
     "ename": "",
     "evalue": "",
     "output_type": "error",
     "traceback": [
      "\u001b[1;31mThe Kernel crashed while executing code in the the current cell or a previous cell. Please review the code in the cell(s) to identify a possible cause of the failure. Click <a href='https://aka.ms/vscodeJupyterKernelCrash'>here</a> for more info. View Jupyter <a href='command:jupyter.viewOutput'>log</a> for further details."
     ]
    }
   ],
   "source": [
    "import datetime\n",
    "import requests as rq\n",
    "import pathlib\n",
    "from IPython.core.display import display_html\n",
    "from IPython.core.display import HTML\n",
    "\n",
    "currDate = datetime.datetime.today().strftime('%Y%m%d')\n",
    "liOrgaoSanc = [\n",
    "    'ceis', \n",
    "    'cepim', \n",
    "    'cnep', \n",
    "    'acordos-leniencia'\n",
    "]\n",
    "\n",
    "for OSanc in liOrgaoSanc:\n",
    "\n",
    "    url = f'https://dadosabertos-download.cgu.gov.br/PortalDaTransparencia/saida/ceis/{currDate}_{OSanc}.zip'\n",
    "\n",
    "    Response = rq.get(url)\n",
    "        \n",
    "    if Response.status_code != 200:\n",
    "        print(f'Falha ao obter dados do CGU, código da API: {Response.status_code}')\n",
    "        print('\\nResposta do Website:')\n",
    "        display_html(HTML(Response.text))\n",
    "        \n",
    "        exit()\n",
    "\n",
    "    filename = pathlib.Path(f'{currDate}_{OSanc}.zip')\n",
    "    filename.write_bytes(Response.content)"
   ]
  }
 ],
 "metadata": {
  "kernelspec": {
   "display_name": "Python 3",
   "language": "python",
   "name": "python3"
  },
  "language_info": {
   "codemirror_mode": {
    "name": "ipython",
    "version": 3
   },
   "file_extension": ".py",
   "mimetype": "text/x-python",
   "name": "python",
   "nbconvert_exporter": "python",
   "pygments_lexer": "ipython3",
   "version": "3.11.6"
  }
 },
 "nbformat": 4,
 "nbformat_minor": 2
}
